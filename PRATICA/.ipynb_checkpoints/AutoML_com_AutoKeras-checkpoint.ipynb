{
 "cells": [
  {
   "cell_type": "markdown",
   "metadata": {
    "id": "R_hwXhTfHh-v"
   },
   "source": [
    "# **AutoML com AutoKeras**\n",
    "- O Automated Machine Learning é também conhecido como AutoML;\n",
    "- Ferramentas e serviços que abstraem os detalhes e conhecimentos necessários para se realizar ML/DL;\n",
    "- Automatiza-se determinadas tarefas necessárias no desenvolvimento de algum modelo;\n",
    "- Geralmente, cobrem etapas de normalização de dados e engenharia de “features”; treinamento de modelos de diferentes tipos e com diferentes hiperparâmetros; avaliação e comparação de resultados;\n",
    "- Algumas ferramentas: H2O, AutoKeras e TPOT;\n",
    "\n",
    "- Vantagens:  \n",
    "  - Necessário conhecimento superficial de ML/DL para se utilizar as ferramentas;\n",
    "  - Diminui o tempo para se ter resultados iniciais;\n",
    "  - Pode-se utilizar em diferentes tipos de dados e problemas (baseline);\n",
    "  - Algumas ferramentas possibilitam customizar modelos/layers;\n",
    "- Desvantagens:\n",
    "  - Customização que pode ser limitada ou dificultada;\n",
    "  - Pode-se não obter resultado bom o bastante para o problema, precisando da intervenção de especialistas;\n",
    "\n"
   ]
  },
  {
   "cell_type": "markdown",
   "metadata": {
    "id": "s3c-4WZ6gmmw"
   },
   "source": [
    "##**Instalação da biblioteca AutoKeras**"
   ]
  },
  {
   "cell_type": "code",
   "execution_count": 5,
   "metadata": {
    "id": "BpImE2GHOycE"
   },
   "outputs": [],
   "source": [
    "%%capture\n",
    "!pip install autokeras tensorflow"
   ]
  },
  {
   "cell_type": "markdown",
   "metadata": {
    "id": "zWe8fVCPgqsL"
   },
   "source": [
    "##**Import dos pacotes necessários**"
   ]
  },
  {
   "cell_type": "code",
   "execution_count": 1,
   "metadata": {
    "id": "CjP8cFkwOzH9"
   },
   "outputs": [
    {
     "ename": "ModuleNotFoundError",
     "evalue": "No module named 'tensorflow'",
     "output_type": "error",
     "traceback": [
      "\u001b[31m---------------------------------------------------------------------------\u001b[39m",
      "\u001b[31mModuleNotFoundError\u001b[39m                       Traceback (most recent call last)",
      "\u001b[36mCell\u001b[39m\u001b[36m \u001b[39m\u001b[32mIn[1]\u001b[39m\u001b[32m, line 3\u001b[39m\n\u001b[32m      1\u001b[39m \u001b[38;5;28;01mimport\u001b[39;00m\u001b[38;5;250m \u001b[39m\u001b[34;01mos\u001b[39;00m\n\u001b[32m      2\u001b[39m \u001b[38;5;28;01mimport\u001b[39;00m\u001b[38;5;250m \u001b[39m\u001b[34;01msklearn\u001b[39;00m\n\u001b[32m----> \u001b[39m\u001b[32m3\u001b[39m \u001b[38;5;28;01mimport\u001b[39;00m\u001b[38;5;250m \u001b[39m\u001b[34;01mtensorflow\u001b[39;00m\n\u001b[32m      4\u001b[39m \u001b[38;5;28;01mimport\u001b[39;00m\u001b[38;5;250m \u001b[39m\u001b[34;01mpandas\u001b[39;00m\u001b[38;5;250m \u001b[39m\u001b[38;5;28;01mas\u001b[39;00m\u001b[38;5;250m \u001b[39m\u001b[34;01mpd\u001b[39;00m\n\u001b[32m      5\u001b[39m \u001b[38;5;28;01mimport\u001b[39;00m\u001b[38;5;250m \u001b[39m\u001b[34;01mautokeras\u001b[39;00m\u001b[38;5;250m \u001b[39m\u001b[38;5;28;01mas\u001b[39;00m\u001b[38;5;250m \u001b[39m\u001b[34;01mak\u001b[39;00m\n",
      "\u001b[31mModuleNotFoundError\u001b[39m: No module named 'tensorflow'"
     ]
    }
   ],
   "source": [
    "import os\n",
    "import sklearn\n",
    "import tensorflow\n",
    "import pandas as pd\n",
    "import autokeras as ak\n",
    "\n",
    "from tensorflow import keras\n",
    "from keras import preprocessing\n",
    "from sklearn.preprocessing import StandardScaler\n",
    "from sklearn.model_selection import train_test_split"
   ]
  },
  {
   "cell_type": "markdown",
   "metadata": {
    "id": "YOzF-5yXgwpl"
   },
   "source": [
    "##**Cópia do dataset**"
   ]
  },
  {
   "cell_type": "code",
   "execution_count": 7,
   "metadata": {
    "id": "fB7dYyqXO25X"
   },
   "outputs": [
    {
     "name": "stderr",
     "output_type": "stream",
     "text": [
      "'rm' não é reconhecido como um comando interno\n",
      "ou externo, um programa operável ou um arquivo em lotes.\n"
     ]
    },
    {
     "name": "stdout",
     "output_type": "stream",
     "text": [
      "CPU times: total: 15.6 ms\n",
      "Wall time: 2.49 s\n"
     ]
    },
    {
     "name": "stderr",
     "output_type": "stream",
     "text": [
      "Cloning into 'lectures-cdas-2023'...\n"
     ]
    }
   ],
   "source": [
    "%%time\n",
    "!rm -r lectures-cdas-2023\n",
    "!git clone https://github.com/renansantosmendes/lectures-cdas-2023.git"
   ]
  },
  {
   "cell_type": "markdown",
   "metadata": {
    "id": "PQHQlivof6N9"
   },
   "source": [
    "##**Leitura do dataset em um DataFrame do Pandas**"
   ]
  },
  {
   "cell_type": "code",
   "execution_count": null,
   "metadata": {
    "id": "2cpQXl2OPnhn"
   },
   "outputs": [],
   "source": [
    "data = pd.read_csv(os.path.join('lectures-cdas-2023', 'fetal_health.csv'))"
   ]
  },
  {
   "cell_type": "markdown",
   "metadata": {
    "id": "8FCa1L1zgBDP"
   },
   "source": [
    "##**Processamento dos dados**\n",
    "Nesta célula serão feitos os seguintes passos:\n",
    "- Separação das variáveis de entrada e saída\n",
    "- Padronização dos valores das variáveis de entrada\n",
    "- Separação em dados de treino e teste\n",
    "- Categorização dos dados de saída (a serem preditos)"
   ]
  },
  {
   "cell_type": "code",
   "execution_count": null,
   "metadata": {
    "id": "UmQ4LCnYX8Gp"
   },
   "outputs": [],
   "source": [
    "X=data.drop([\"fetal_health\"], axis=1)\n",
    "y=data[\"fetal_health\"]\n",
    "\n",
    "columns_names = list(X.columns)\n",
    "X_df = StandardScaler().fit_transform(X)\n",
    "X_df = pd.DataFrame(X_df, columns=columns_names)\n",
    "\n",
    "X_train, X_test, y_train, y_test = train_test_split(X_df, y, test_size=0.3, random_state=42)\n",
    "y_train=keras.utils.to_categorical(y_train)[:,1:]\n",
    "y_test=keras.utils.to_categorical(y_test)[:,1:]"
   ]
  },
  {
   "cell_type": "markdown",
   "metadata": {
    "id": "dI-dlOKvfeW8"
   },
   "source": [
    "##**Criação do modelo (atualizado)**\n",
    "A partir da versão 2.0.0 do AutoKeras a classe StructuredDataClassifier foi descontinuada e uma forma de contornar é por meio do uso da classe AutoModel em conjunto com a ClassificationHead. Dessa forma o modelo poderá ser treinado conforme o código abaixo"
   ]
  },
  {
   "cell_type": "code",
   "execution_count": null,
   "metadata": {
    "id": "z0zBedX1XjsJ"
   },
   "outputs": [],
   "source": [
    "%%time\n",
    "input_node = ak.Input()\n",
    "output_node = ak.ClassificationHead(num_classes=3)(input_node)\n",
    "auto_model = ak.AutoModel(inputs=input_node,\n",
    "                          outputs=output_node,\n",
    "                          max_trials=10,\n",
    "                          overwrite=True)\n",
    "\n",
    "auto_model.fit(X_train.values, y_train, epochs=10)"
   ]
  },
  {
   "cell_type": "markdown",
   "metadata": {
    "id": "YGa6eAZhg3-R"
   },
   "source": [
    "##**Exportando o melhor modelo encontrado até o momento**"
   ]
  },
  {
   "cell_type": "code",
   "execution_count": null,
   "metadata": {
    "id": "Gvcn5ij8-cVy"
   },
   "outputs": [],
   "source": [
    "model = auto_model.export_model()"
   ]
  },
  {
   "cell_type": "markdown",
   "metadata": {
    "id": "ta4JnIQ8g7oc"
   },
   "source": [
    "##**Vendo o resumo do melhor modelo**"
   ]
  },
  {
   "cell_type": "code",
   "execution_count": null,
   "metadata": {
    "id": "AW-bYXRuyxvm"
   },
   "outputs": [],
   "source": [
    "model.summary()"
   ]
  },
  {
   "cell_type": "markdown",
   "metadata": {
    "id": "_uwKN6CkhAnF"
   },
   "source": [
    "##**Avaliando o modelo encontrado com os dados de teste**"
   ]
  },
  {
   "cell_type": "code",
   "execution_count": null,
   "metadata": {
    "id": "gOn3uquJyzqf"
   },
   "outputs": [],
   "source": [
    "model.evaluate(X_test, y_test)"
   ]
  }
 ],
 "metadata": {
  "colab": {
   "provenance": []
  },
  "kernelspec": {
   "display_name": "Python 3 (ipykernel)",
   "language": "python",
   "name": "python3"
  },
  "language_info": {
   "codemirror_mode": {
    "name": "ipython",
    "version": 3
   },
   "file_extension": ".py",
   "mimetype": "text/x-python",
   "name": "python",
   "nbconvert_exporter": "python",
   "pygments_lexer": "ipython3",
   "version": "3.13.2"
  }
 },
 "nbformat": 4,
 "nbformat_minor": 4
}
